{
 "cells": [
  {
   "cell_type": "code",
   "execution_count": null,
   "id": "e91a9b03-5fb6-48f3-8604-51aa044d1a95",
   "metadata": {},
   "outputs": [],
   "source": [
    "import pandas as pd\n",
    "from sklearn.model_selection import train_test_split, GridSearchCV\n",
    "from sklearn.feature_extraction.text import TfidfVectorizer\n",
    "from sklearn.linear_model import LogisticRegression\n",
    "from sklearn.metrics import accuracy_score, confusion_matrix, classification_report\n",
    "import joblib\n",
    "import seaborn as sns\n",
    "import matplotlib.pyplot as plt\n"
   ]
  },
  {
   "cell_type": "code",
   "execution_count": null,
   "id": "fde63f31-8d35-4864-ba99-e4921a936b4a",
   "metadata": {},
   "outputs": [],
   "source": [
    "# Load the dataset\n",
    "data = pd.read_csv('Genre-Classification-Dataset/train_data.txt', sep=' ::: ', engine='python', header=None, names=['id', 'title', 'genre', 'plot'])\n",
    "\n",
    "# Filter out genres with less than 5 instances (optional, to avoid overfitting on rare genres)\n",
    "genre_counts = data['genre'].value_counts()\n",
    "valid_genres = genre_counts[genre_counts >= 5].index\n",
    "data = data[data['genre'].isin(valid_genres)]\n",
    "\n",
    "# Split the data into features and labels\n",
    "X = data['plot']  # Movie plot descriptions\n",
    "y = data['genre']  # Movie genres\n"
   ]
  },
  {
   "cell_type": "code",
   "execution_count": null,
   "id": "7ed31a6b-5aab-4f45-9b04-71ae155928de",
   "metadata": {},
   "outputs": [],
   "source": [
    "# Split the data into training and testing sets (80% train, 20% test)\n",
    "X_train, X_test, y_train, y_test = train_test_split(X, y, test_size=0.2, random_state=42, stratify=y)\n"
   ]
  },
  {
   "cell_type": "code",
   "execution_count": null,
   "id": "345a6e6b-eb92-410a-be25-5cecca196d8e",
   "metadata": {},
   "outputs": [],
   "source": [
    "# Using TF-IDF Vectorizer with n-grams (unigrams and bigrams)\n",
    "vectorizer = TfidfVectorizer(ngram_range=(1, 2), max_features=10000)\n",
    "X_train_tfidf = vectorizer.fit_transform(X_train)\n",
    "X_test_tfidf = vectorizer.transform(X_test)\n"
   ]
  },
  {
   "cell_type": "code",
   "execution_count": null,
   "id": "f3550551-4636-4071-96aa-94781b90c150",
   "metadata": {},
   "outputs": [],
   "source": [
    "# Logistic Regression model with cross-validation and hyperparameter tuning\n",
    "logreg = LogisticRegression()\n",
    "\n",
    "# Define parameter grid for tuning\n",
    "param_grid = {\n",
    "    'C': [0.1, 1, 10],  # Regularization strength\n",
    "    'penalty': ['l2'],  # Use L2 regularization\n",
    "    'solver': ['liblinear', 'lbfgs']  # Solvers\n",
    "}\n",
    "\n",
    "# Use GridSearchCV to find the best hyperparameters\n",
    "grid_search = GridSearchCV(logreg, param_grid, cv=5, scoring='accuracy', verbose=1, n_jobs=-1)\n",
    "grid_search.fit(X_train_tfidf, y_train)\n",
    "\n",
    "# Get the best estimator (best model)\n",
    "best_model = grid_search.best_estimator_\n",
    "\n",
    "# Train the final Logistic Regression model with the best parameters\n",
    "best_model.fit(X_train_tfidf, y_train)\n"
   ]
  },
  {
   "cell_type": "code",
   "execution_count": null,
   "id": "60ffbd34-a9d7-4b3c-bf11-e1b2d53b5792",
   "metadata": {},
   "outputs": [],
   "source": [
    "# Make predictions on the test set\n",
    "y_pred = best_model.predict(X_test_tfidf)\n",
    "\n",
    "# Calculate accuracy\n",
    "accuracy = accuracy_score(y_test, y_pred)\n",
    "print(f\"Accuracy: {accuracy * 100:.2f}%\")\n",
    "\n",
    "# Confusion matrix\n",
    "conf_matrix = confusion_matrix(y_test, y_pred)\n",
    "plt.figure(figsize=(10, 8))\n",
    "sns.heatmap(conf_matrix, annot=True, fmt='d', cmap='Blues', xticklabels=best_model.classes_, yticklabels=best_model.classes_)\n",
    "plt.title('Confusion Matrix')\n",
    "plt.xlabel('Predicted Genre')\n",
    "plt.ylabel('True Genre')\n",
    "plt.show()\n",
    "\n",
    "# Classification report\n",
    "print(\"Classification Report:\\n\")\n",
    "print(classification_report(y_test, y_pred))\n"
   ]
  },
  {
   "cell_type": "code",
   "execution_count": null,
   "id": "a1eee788-6344-4313-a4d0-736ed16529ac",
   "metadata": {},
   "outputs": [],
   "source": [
    "# Save the trained model and vectorizer for later use in prediction\n",
    "joblib.dump(best_model, 'random_forest_model.pkl')\n",
    "joblib.dump(vectorizer, 'tfidf_vectorizer.pkl')\n",
    "\n",
    "print(\"Model and TF-IDF vectorizer saved successfully.\")\n"
   ]
  }
 ],
 "metadata": {
  "kernelspec": {
   "display_name": "Python 3 (ipykernel)",
   "language": "python",
   "name": "python3"
  },
  "language_info": {
   "codemirror_mode": {
    "name": "ipython",
    "version": 3
   },
   "file_extension": ".py",
   "mimetype": "text/x-python",
   "name": "python",
   "nbconvert_exporter": "python",
   "pygments_lexer": "ipython3",
   "version": "3.12.3"
  }
 },
 "nbformat": 4,
 "nbformat_minor": 5
}
