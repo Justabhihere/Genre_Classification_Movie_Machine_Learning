{
 "cells": [
  {
   "cell_type": "code",
   "execution_count": 1,
   "id": "6a0a28ce-839a-4aaa-98a3-64a281a3e19b",
   "metadata": {},
   "outputs": [],
   "source": [
    "import joblib\n",
    "\n",
    "# Load the trained model and vectorizer\n",
    "model = joblib.load('random_forest_model.pkl')\n",
    "vectorizer = joblib.load('tfidf_vectorizer.pkl')\n"
   ]
  },
  {
   "cell_type": "code",
   "execution_count": 2,
   "id": "44f52381-3e00-4ec7-bc7d-3c678ab33512",
   "metadata": {},
   "outputs": [],
   "source": [
    "# Function to predict the genre based on movie description\n",
    "def predict_genre(plot_description):\n",
    "    # Transform the plot description using the loaded TF-IDF vectorizer\n",
    "    plot_tfidf = vectorizer.transform([plot_description])\n",
    "    \n",
    "    # Predict the genre using the loaded model\n",
    "    predicted_genre = model.predict(plot_tfidf)\n",
    "    \n",
    "    return predicted_genre[0]  # Return the predicted genre\n"
   ]
  },
  {
   "cell_type": "code",
   "execution_count": 3,
   "id": "4110f6ae-9b4c-41b8-ba6d-42809111e124",
   "metadata": {},
   "outputs": [
    {
     "name": "stdin",
     "output_type": "stream",
     "text": [
      "Enter a movie plot description:  Spain, March 1964: Quico is a very naughty child of three belonging to a wealthy middle-class family. Since Cristina's birth, he feels he has lost the privileged position of \"prince\" of the house for his eight months old sister. So, with his brother Juan, who is eight years old and is quite disobedient, spend their time committing prank after prank, causing the resulting anger of his mother, the nanny and the old housemaid. The rest of the family members are two much older brothers, his resigned mother and a retrograde father of authoritarian ideas. But many years have passed, and the civil war that won the despot Don Pablo is simply for their children \"Dad's war\".\n"
     ]
    }
   ],
   "source": [
    "# Example usage: Input a movie plot\n",
    "movie_plot = input(\"Enter a movie plot description: \")\n"
   ]
  },
  {
   "cell_type": "code",
   "execution_count": 4,
   "id": "3fd76009-76a2-4e5c-9bf2-b39912485c44",
   "metadata": {},
   "outputs": [
    {
     "name": "stdout",
     "output_type": "stream",
     "text": [
      "The predicted genre for the given plot is: drama\n"
     ]
    }
   ],
   "source": [
    "# Predict the genre for the input movie plot\n",
    "predicted_genre = predict_genre(movie_plot)\n",
    "print(f\"The predicted genre for the given plot is: {predicted_genre}\")\n"
   ]
  },
  {
   "cell_type": "code",
   "execution_count": null,
   "id": "75edd987-000a-4426-8982-51ab40e4a4b0",
   "metadata": {},
   "outputs": [],
   "source": []
  }
 ],
 "metadata": {
  "kernelspec": {
   "display_name": "Python 3 (ipykernel)",
   "language": "python",
   "name": "python3"
  },
  "language_info": {
   "codemirror_mode": {
    "name": "ipython",
    "version": 3
   },
   "file_extension": ".py",
   "mimetype": "text/x-python",
   "name": "python",
   "nbconvert_exporter": "python",
   "pygments_lexer": "ipython3",
   "version": "3.12.3"
  }
 },
 "nbformat": 4,
 "nbformat_minor": 5
}
